{
 "cells": [
  {
   "cell_type": "markdown",
   "id": "95969c8f",
   "metadata": {},
   "source": [
    "Импорт необходимых библиотек"
   ]
  },
  {
   "cell_type": "code",
   "execution_count": 1,
   "id": "8dfed776",
   "metadata": {},
   "outputs": [],
   "source": [
    "import pyspark\n",
    "from pyspark.conf import SparkConf\n",
    "from pyspark.sql import SparkSession"
   ]
  },
  {
   "cell_type": "markdown",
   "id": "e9428e8c",
   "metadata": {},
   "source": [
    "Создание сессии spark"
   ]
  },
  {
   "cell_type": "code",
   "execution_count": 3,
   "id": "8c9b6a94",
   "metadata": {},
   "outputs": [],
   "source": [
    "spark = SparkSession.builder.master(\"spark://spark-master:7077\").getOrCreate()"
   ]
  },
  {
   "cell_type": "markdown",
   "id": "4221c6c0",
   "metadata": {},
   "source": [
    "Чтение данных в датафрейм и вывод"
   ]
  },
  {
   "cell_type": "code",
   "execution_count": 4,
   "id": "cc02703a",
   "metadata": {},
   "outputs": [
    {
     "name": "stderr",
     "output_type": "stream",
     "text": [
      "                                                                                \r"
     ]
    },
    {
     "name": "stdout",
     "output_type": "stream",
     "text": [
      "+----+--------------------+-------------+-----+---+\n",
      "| _c0|                 _c1|          _c2|  _c3|_c4|\n",
      "+----+--------------------+-------------+-----+---+\n",
      "|null|                name|         city|state| id|\n",
      "|   0|  NorthGate Brewing |  Minneapolis|   MN|  0|\n",
      "|   1|Against the Grain...|   Louisville|   KY|  1|\n",
      "|   2|Jack's Abby Craft...|   Framingham|   MA|  2|\n",
      "|   3|Mike Hess Brewing...|    San Diego|   CA|  3|\n",
      "|   4|Fort Point Beer C...|San Francisco|   CA|  4|\n",
      "|   5|COAST Brewing Com...|   Charleston|   SC|  5|\n",
      "|   6|Great Divide Brew...|       Denver|   CO|  6|\n",
      "|   7|    Tapistry Brewing|     Bridgman|   MI|  7|\n",
      "|   8|    Big Lake Brewing|      Holland|   MI|  8|\n",
      "|   9|The Mitten Brewin...| Grand Rapids|   MI|  9|\n",
      "|  10|      Brewery Vivant| Grand Rapids|   MI| 10|\n",
      "|  11|    Petoskey Brewing|     Petoskey|   MI| 11|\n",
      "|  12|  Blackrocks Brewery|    Marquette|   MI| 12|\n",
      "|  13|Perrin Brewing Co...|Comstock Park|   MI| 13|\n",
      "|  14|Witch's Hat Brewi...|   South Lyon|   MI| 14|\n",
      "|  15|Founders Brewing ...| Grand Rapids|   MI| 15|\n",
      "|  16|   Flat 12 Bierwerks| Indianapolis|   IN| 16|\n",
      "|  17|Tin Man Brewing C...|   Evansville|   IN| 17|\n",
      "|  18|Black Acre Brewin...| Indianapolis|   IN| 18|\n",
      "+----+--------------------+-------------+-----+---+\n",
      "only showing top 20 rows\n",
      "\n"
     ]
    }
   ],
   "source": [
    "brewfile = spark.read.csv(\"hdfs://namenode:9000/data/openbeer/breweries/breweries.csv\")\n",
    "brewfile.show()"
   ]
  },
  {
   "cell_type": "code",
   "execution_count": null,
   "id": "422574df",
   "metadata": {},
   "outputs": [],
   "source": []
  }
 ],
 "metadata": {
  "kernelspec": {
   "display_name": "Python 3 (ipykernel)",
   "language": "python",
   "name": "python3"
  },
  "language_info": {
   "codemirror_mode": {
    "name": "ipython",
    "version": 3
   },
   "file_extension": ".py",
   "mimetype": "text/x-python",
   "name": "python",
   "nbconvert_exporter": "python",
   "pygments_lexer": "ipython3",
   "version": "3.9.13"
  }
 },
 "nbformat": 4,
 "nbformat_minor": 5
}
